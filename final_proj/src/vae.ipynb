{
 "cells": [
  {
   "cell_type": "code",
   "execution_count": 1,
   "metadata": {},
   "outputs": [],
   "source": [
    "from data import cifar10, swiss_roll_data_loader, get_word2vec_data_loader\n",
    "from model import VAE\n",
    "from train import train_vae, train_resnet18\n",
    "import torch\n",
    "import torchvision\n",
    "from tqdm import tqdm\n",
    "# from gensim.models import word2vec\n",
    "# import numpy as np"
   ]
  },
  {
   "attachments": {},
   "cell_type": "markdown",
   "metadata": {},
   "source": [
    "## Swiss Roll"
   ]
  },
  {
   "cell_type": "code",
   "execution_count": null,
   "metadata": {},
   "outputs": [],
   "source": [
    "nr_samples = 5000\n",
    "train_loader, val_loader, test_loader = swiss_roll_data_loader()\n",
    "vae = VAE(3, 5, 2)\n",
    "opt = torch.optim.Adam(vae.parameters(), lr=0.001)\n",
    "train_vae(100, vae, opt, train_loader, test_loader, batch_size = 32)\n"
   ]
  },
  {
   "attachments": {},
   "cell_type": "markdown",
   "metadata": {},
   "source": [
    "## Word2vec"
   ]
  },
  {
   "cell_type": "code",
   "execution_count": null,
   "metadata": {},
   "outputs": [],
   "source": [
    "train_embeddings, val_embeddings, test_embeddings = get_word2vec_data_loader(split=[10000, 1000, 1000], seed=3407, batch_size=32)\n"
   ]
  },
  {
   "attachments": {},
   "cell_type": "markdown",
   "metadata": {},
   "source": [
    "## Cifar 10"
   ]
  },
  {
   "cell_type": "code",
   "execution_count": null,
   "metadata": {},
   "outputs": [],
   "source": [
    "batch_size = 32\n",
    "train_loader, val_loader, test_loader = cifar10(batch_size)"
   ]
  },
  {
   "cell_type": "code",
   "execution_count": null,
   "metadata": {},
   "outputs": [],
   "source": [
    "hidden = 256\n",
    "latent = 2\n",
    "epochs = 10\n",
    "\n",
    "vae = VAE(batch_size, 256, 2)\n",
    "opt = torch.optim.Adam(vae.parameters(), lr=0.001)\n",
    "train_vae(epochs, vae, opt, train_loader, test_loader, batch_size = 32)"
   ]
  },
  {
   "cell_type": "code",
   "execution_count": 14,
   "metadata": {},
   "outputs": [],
   "source": [
    "model = torchvision.models.resnet18(False)\n",
    "model.fc = torch.nn.Linear(512, 10)\n",
    "opt = torch.optim.Adam(model.parameters(), lr=0.001)\n",
    "train_resnet18(epochs, train_loader, batch_size)"
   ]
  },
  {
   "cell_type": "code",
   "execution_count": null,
   "metadata": {},
   "outputs": [],
   "source": []
  }
 ],
 "metadata": {
  "kernelspec": {
   "display_name": "base",
   "language": "python",
   "name": "python3"
  },
  "language_info": {
   "codemirror_mode": {
    "name": "ipython",
    "version": 3
   },
   "file_extension": ".py",
   "mimetype": "text/x-python",
   "name": "python",
   "nbconvert_exporter": "python",
   "pygments_lexer": "ipython3",
   "version": "3.9.7"
  },
  "orig_nbformat": 4
 },
 "nbformat": 4,
 "nbformat_minor": 2
}
