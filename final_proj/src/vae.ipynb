{
 "cells": [
  {
   "cell_type": "code",
   "execution_count": 1,
   "metadata": {},
   "outputs": [],
   "source": [
    "from data import cifar10, swiss_roll_data_loader, get_word2vec_data_loader\n",
    "from model import VAE\n",
    "from train import train_vae, train_resnet18\n",
    "import torch\n",
    "import torchvision\n",
    "from tqdm import tqdm"
   ]
  },
  {
   "attachments": {},
   "cell_type": "markdown",
   "metadata": {},
   "source": [
    "## Swiss Roll"
   ]
  },
  {
   "cell_type": "code",
   "execution_count": null,
   "metadata": {},
   "outputs": [],
   "source": [
    "nr_samples = 5000\n",
    "train_loader, val_loader, test_loader = swiss_roll_data_loader()"
   ]
  },
  {
   "cell_type": "code",
   "execution_count": null,
   "metadata": {},
   "outputs": [],
   "source": [
    "vae = VAE(3, 5, 2)\n",
    "opt = torch.optim.Adam(vae.parameters(), lr=0.001)\n",
    "train_vae(100, vae, opt, train_loader, test_loader, batch_size = 32)\n"
   ]
  },
  {
   "attachments": {},
   "cell_type": "markdown",
   "metadata": {},
   "source": [
    "## Word2vec"
   ]
  },
  {
   "cell_type": "code",
   "execution_count": 2,
   "metadata": {},
   "outputs": [
    {
     "name": "stdout",
     "output_type": "stream",
     "text": [
      "C:\\Users\\huwenbin/gensim-data\n"
     ]
    }
   ],
   "source": [
    "train_loader, val_loader, test_loader = get_word2vec_data_loader(split=[10000, 1000, 1000], seed=3407, batch_size=32)"
   ]
  },
  {
   "cell_type": "code",
   "execution_count": 4,
   "metadata": {},
   "outputs": [
    {
     "name": "stderr",
     "output_type": "stream",
     "text": [
      "training: 100%|██████████| 313/313 [00:01<00:00, 288.01it/s]\n",
      "val: 100%|██████████| 32/32 [00:00<00:00, 1371.63it/s]\n",
      "training:   9%|▉         | 29/313 [00:00<00:01, 283.27it/s]"
     ]
    },
    {
     "name": "stdout",
     "output_type": "stream",
     "text": [
      "ep:  0 , train loss:  0.0009481989860534668 , val loss:  0.000571477472782135\n"
     ]
    },
    {
     "name": "stderr",
     "output_type": "stream",
     "text": [
      "training: 100%|██████████| 313/313 [00:01<00:00, 297.41it/s]\n",
      "val: 100%|██████████| 32/32 [00:00<00:00, 426.10it/s]\n",
      "training:   9%|▉         | 28/313 [00:00<00:01, 278.56it/s]"
     ]
    },
    {
     "name": "stdout",
     "output_type": "stream",
     "text": [
      "ep:  1 , train loss:  0.00055438232421875 , val loss:  0.0005510439276695252\n"
     ]
    },
    {
     "name": "stderr",
     "output_type": "stream",
     "text": [
      "training: 100%|██████████| 313/313 [00:01<00:00, 300.52it/s]\n",
      "val: 100%|██████████| 32/32 [00:00<00:00, 1377.88it/s]\n",
      "training:   9%|▉         | 29/313 [00:00<00:01, 281.43it/s]"
     ]
    },
    {
     "name": "stdout",
     "output_type": "stream",
     "text": [
      "ep:  2 , train loss:  0.0005464014053344727 , val loss:  0.00054917573928833\n"
     ]
    },
    {
     "name": "stderr",
     "output_type": "stream",
     "text": [
      "training: 100%|██████████| 313/313 [00:01<00:00, 297.77it/s]\n",
      "val: 100%|██████████| 32/32 [00:00<00:00, 1355.83it/s]\n",
      "training:   9%|▊         | 27/313 [00:00<00:01, 266.00it/s]"
     ]
    },
    {
     "name": "stdout",
     "output_type": "stream",
     "text": [
      "ep:  3 , train loss:  0.0005436723709106446 , val loss:  0.000555401623249054\n"
     ]
    },
    {
     "name": "stderr",
     "output_type": "stream",
     "text": [
      "training: 100%|██████████| 313/313 [00:01<00:00, 269.48it/s]\n",
      "val: 100%|██████████| 32/32 [00:00<00:00, 965.14it/s]\n",
      "training:   6%|▋         | 20/313 [00:00<00:01, 191.47it/s]"
     ]
    },
    {
     "name": "stdout",
     "output_type": "stream",
     "text": [
      "ep:  4 , train loss:  0.0005422797203063965 , val loss:  0.0005456909537315368\n"
     ]
    },
    {
     "name": "stderr",
     "output_type": "stream",
     "text": [
      "training: 100%|██████████| 313/313 [00:01<00:00, 189.24it/s]\n",
      "val: 100%|██████████| 32/32 [00:00<00:00, 884.59it/s]\n",
      "training:   6%|▌         | 19/313 [00:00<00:01, 189.21it/s]"
     ]
    },
    {
     "name": "stdout",
     "output_type": "stream",
     "text": [
      "ep:  5 , train loss:  0.0005419913768768311 , val loss:  0.000554020345211029\n"
     ]
    },
    {
     "name": "stderr",
     "output_type": "stream",
     "text": [
      "training: 100%|██████████| 313/313 [00:01<00:00, 195.07it/s]\n",
      "val: 100%|██████████| 32/32 [00:00<00:00, 957.92it/s]\n",
      "training:  12%|█▏        | 38/313 [00:00<00:01, 185.80it/s]"
     ]
    },
    {
     "name": "stdout",
     "output_type": "stream",
     "text": [
      "ep:  6 , train loss:  0.0005409656047821045 , val loss:  0.0005566173195838928\n"
     ]
    },
    {
     "name": "stderr",
     "output_type": "stream",
     "text": [
      "training: 100%|██████████| 313/313 [00:01<00:00, 199.80it/s]\n",
      "val: 100%|██████████| 32/32 [00:00<00:00, 823.82it/s]\n",
      "training:   7%|▋         | 21/313 [00:00<00:01, 203.67it/s]"
     ]
    },
    {
     "name": "stdout",
     "output_type": "stream",
     "text": [
      "ep:  7 , train loss:  0.000540876293182373 , val loss:  0.0005422903299331665\n"
     ]
    },
    {
     "name": "stderr",
     "output_type": "stream",
     "text": [
      "training: 100%|██████████| 313/313 [00:01<00:00, 193.48it/s]\n",
      "val: 100%|██████████| 32/32 [00:00<00:00, 970.33it/s]\n",
      "training:   7%|▋         | 21/313 [00:00<00:01, 206.04it/s]"
     ]
    },
    {
     "name": "stdout",
     "output_type": "stream",
     "text": [
      "ep:  8 , train loss:  0.0005407331466674805 , val loss:  0.0005431554317474365\n"
     ]
    },
    {
     "name": "stderr",
     "output_type": "stream",
     "text": [
      "training: 100%|██████████| 313/313 [00:01<00:00, 207.76it/s]\n",
      "val: 100%|██████████| 32/32 [00:00<00:00, 1032.17it/s]\n",
      "training:   7%|▋         | 23/313 [00:00<00:01, 226.69it/s]"
     ]
    },
    {
     "name": "stdout",
     "output_type": "stream",
     "text": [
      "ep:  9 , train loss:  0.0005409583568572998 , val loss:  0.0005489310622215271\n"
     ]
    },
    {
     "name": "stderr",
     "output_type": "stream",
     "text": [
      "training: 100%|██████████| 313/313 [00:01<00:00, 210.50it/s]\n",
      "val: 100%|██████████| 32/32 [00:00<00:00, 959.85it/s]\n",
      "training:   6%|▌         | 18/313 [00:00<00:01, 175.99it/s]"
     ]
    },
    {
     "name": "stdout",
     "output_type": "stream",
     "text": [
      "ep:  10 , train loss:  0.0005410890579223633 , val loss:  0.0005472598075866699\n"
     ]
    },
    {
     "name": "stderr",
     "output_type": "stream",
     "text": [
      "training: 100%|██████████| 313/313 [00:01<00:00, 184.28it/s]\n",
      "val: 100%|██████████| 32/32 [00:00<00:00, 921.61it/s]\n",
      "training:   6%|▋         | 20/313 [00:00<00:01, 194.14it/s]"
     ]
    },
    {
     "name": "stdout",
     "output_type": "stream",
     "text": [
      "ep:  11 , train loss:  0.0005406612396240234 , val loss:  0.0005453214645385743\n"
     ]
    },
    {
     "name": "stderr",
     "output_type": "stream",
     "text": [
      "training: 100%|██████████| 313/313 [00:01<00:00, 205.81it/s]\n",
      "val: 100%|██████████| 32/32 [00:00<00:00, 1016.49it/s]\n",
      "training:   8%|▊         | 24/313 [00:00<00:01, 229.34it/s]"
     ]
    },
    {
     "name": "stdout",
     "output_type": "stream",
     "text": [
      "ep:  12 , train loss:  0.0005406157016754151 , val loss:  0.0005522900223731994\n"
     ]
    },
    {
     "name": "stderr",
     "output_type": "stream",
     "text": [
      "training: 100%|██████████| 313/313 [00:01<00:00, 210.13it/s]\n",
      "val: 100%|██████████| 32/32 [00:00<00:00, 1092.80it/s]\n",
      "training:  15%|█▍        | 46/313 [00:00<00:01, 224.17it/s]"
     ]
    },
    {
     "name": "stdout",
     "output_type": "stream",
     "text": [
      "ep:  13 , train loss:  0.0005409442901611328 , val loss:  0.0005453295111656189\n"
     ]
    },
    {
     "name": "stderr",
     "output_type": "stream",
     "text": [
      "training: 100%|██████████| 313/313 [00:01<00:00, 205.65it/s]\n",
      "val: 100%|██████████| 32/32 [00:00<00:00, 1082.02it/s]\n",
      "training:  14%|█▎        | 43/313 [00:00<00:01, 213.27it/s]"
     ]
    },
    {
     "name": "stdout",
     "output_type": "stream",
     "text": [
      "ep:  14 , train loss:  0.000541946792602539 , val loss:  0.0005519063472747802\n"
     ]
    },
    {
     "name": "stderr",
     "output_type": "stream",
     "text": [
      "training: 100%|██████████| 313/313 [00:01<00:00, 197.05it/s]\n",
      "val: 100%|██████████| 32/32 [00:00<00:00, 1138.42it/s]\n",
      "training:   7%|▋         | 23/313 [00:00<00:01, 226.11it/s]"
     ]
    },
    {
     "name": "stdout",
     "output_type": "stream",
     "text": [
      "ep:  15 , train loss:  0.000540720796585083 , val loss:  0.000549073874950409\n"
     ]
    },
    {
     "name": "stderr",
     "output_type": "stream",
     "text": [
      "training: 100%|██████████| 313/313 [00:01<00:00, 212.74it/s]\n",
      "val: 100%|██████████| 32/32 [00:00<00:00, 989.61it/s]\n",
      "training:   7%|▋         | 21/313 [00:00<00:01, 204.17it/s]"
     ]
    },
    {
     "name": "stdout",
     "output_type": "stream",
     "text": [
      "ep:  16 , train loss:  0.0005408369541168213 , val loss:  0.0005440280437469482\n"
     ]
    },
    {
     "name": "stderr",
     "output_type": "stream",
     "text": [
      "training: 100%|██████████| 313/313 [00:01<00:00, 212.89it/s]\n",
      "val: 100%|██████████| 32/32 [00:00<00:00, 1085.25it/s]\n",
      "training:   6%|▋         | 20/313 [00:00<00:01, 197.62it/s]"
     ]
    },
    {
     "name": "stdout",
     "output_type": "stream",
     "text": [
      "ep:  17 , train loss:  0.0005410115242004394 , val loss:  0.0005577546954154968\n"
     ]
    },
    {
     "name": "stderr",
     "output_type": "stream",
     "text": [
      "training: 100%|██████████| 313/313 [00:01<00:00, 215.89it/s]\n",
      "val: 100%|██████████| 32/32 [00:00<00:00, 282.23it/s]\n",
      "training:   6%|▌         | 19/313 [00:00<00:01, 184.98it/s]"
     ]
    },
    {
     "name": "stdout",
     "output_type": "stream",
     "text": [
      "ep:  18 , train loss:  0.000540576171875 , val loss:  0.0005440863370895386\n"
     ]
    },
    {
     "name": "stderr",
     "output_type": "stream",
     "text": [
      "training: 100%|██████████| 313/313 [00:01<00:00, 192.44it/s]\n",
      "val: 100%|██████████| 32/32 [00:00<00:00, 797.96it/s]\n",
      "training:   5%|▌         | 17/313 [00:00<00:01, 168.43it/s]"
     ]
    },
    {
     "name": "stdout",
     "output_type": "stream",
     "text": [
      "ep:  19 , train loss:  0.0005407616138458251 , val loss:  0.0005454068779945373\n"
     ]
    },
    {
     "name": "stderr",
     "output_type": "stream",
     "text": [
      "training: 100%|██████████| 313/313 [00:01<00:00, 173.29it/s]\n",
      "val: 100%|██████████| 32/32 [00:00<00:00, 827.02it/s]\n",
      "training:   6%|▌         | 18/313 [00:00<00:01, 175.17it/s]"
     ]
    },
    {
     "name": "stdout",
     "output_type": "stream",
     "text": [
      "ep:  20 , train loss:  0.0005405131340026855 , val loss:  0.0005429728031158447\n"
     ]
    },
    {
     "name": "stderr",
     "output_type": "stream",
     "text": [
      "training: 100%|██████████| 313/313 [00:01<00:00, 173.04it/s]\n",
      "val: 100%|██████████| 32/32 [00:00<00:00, 777.38it/s]\n",
      "training:   6%|▌         | 18/313 [00:00<00:01, 179.56it/s]"
     ]
    },
    {
     "name": "stdout",
     "output_type": "stream",
     "text": [
      "ep:  21 , train loss:  0.0005406289100646972 , val loss:  0.0005464575290679932\n"
     ]
    },
    {
     "name": "stderr",
     "output_type": "stream",
     "text": [
      "training: 100%|██████████| 313/313 [00:01<00:00, 165.40it/s]\n",
      "val: 100%|██████████| 32/32 [00:00<00:00, 842.03it/s]\n",
      "training:   5%|▌         | 17/313 [00:00<00:01, 168.53it/s]"
     ]
    },
    {
     "name": "stdout",
     "output_type": "stream",
     "text": [
      "ep:  22 , train loss:  0.0005405781269073487 , val loss:  0.0005444825887680054\n"
     ]
    },
    {
     "name": "stderr",
     "output_type": "stream",
     "text": [
      "training: 100%|██████████| 313/313 [00:01<00:00, 173.27it/s]\n",
      "val: 100%|██████████| 32/32 [00:00<00:00, 808.37it/s]\n",
      "training:   6%|▌         | 19/313 [00:00<00:01, 180.54it/s]"
     ]
    },
    {
     "name": "stdout",
     "output_type": "stream",
     "text": [
      "ep:  23 , train loss:  0.0005407162189483642 , val loss:  0.0005494802594184875\n"
     ]
    },
    {
     "name": "stderr",
     "output_type": "stream",
     "text": [
      "training: 100%|██████████| 313/313 [00:01<00:00, 181.48it/s]\n",
      "val: 100%|██████████| 32/32 [00:00<00:00, 914.08it/s]\n",
      "training:   6%|▌         | 18/313 [00:00<00:01, 171.79it/s]"
     ]
    },
    {
     "name": "stdout",
     "output_type": "stream",
     "text": [
      "ep:  24 , train loss:  0.0005404375076293945 , val loss:  0.0005531792044639588\n"
     ]
    },
    {
     "name": "stderr",
     "output_type": "stream",
     "text": [
      "training: 100%|██████████| 313/313 [00:01<00:00, 172.47it/s]\n",
      "val: 100%|██████████| 32/32 [00:00<00:00, 839.43it/s]\n",
      "training:   6%|▌         | 19/313 [00:00<00:01, 183.92it/s]"
     ]
    },
    {
     "name": "stdout",
     "output_type": "stream",
     "text": [
      "ep:  25 , train loss:  0.0005409008979797363 , val loss:  0.0005447548031806945\n"
     ]
    },
    {
     "name": "stderr",
     "output_type": "stream",
     "text": [
      "training: 100%|██████████| 313/313 [00:01<00:00, 185.04it/s]\n",
      "val: 100%|██████████| 32/32 [00:00<00:00, 941.90it/s]\n",
      "training:   7%|▋         | 21/313 [00:00<00:01, 202.27it/s]"
     ]
    },
    {
     "name": "stdout",
     "output_type": "stream",
     "text": [
      "ep:  26 , train loss:  0.0005407999515533447 , val loss:  0.0005478653311729432\n"
     ]
    },
    {
     "name": "stderr",
     "output_type": "stream",
     "text": [
      "training: 100%|██████████| 313/313 [00:01<00:00, 211.00it/s]\n",
      "val: 100%|██████████| 32/32 [00:00<00:00, 925.38it/s]\n",
      "training:   7%|▋         | 23/313 [00:00<00:01, 221.21it/s]"
     ]
    },
    {
     "name": "stdout",
     "output_type": "stream",
     "text": [
      "ep:  27 , train loss:  0.0005406966209411621 , val loss:  0.0005446791052818299\n"
     ]
    },
    {
     "name": "stderr",
     "output_type": "stream",
     "text": [
      "training: 100%|██████████| 313/313 [00:01<00:00, 203.73it/s]\n",
      "val: 100%|██████████| 32/32 [00:00<00:00, 1026.40it/s]\n",
      "training:   6%|▌         | 19/313 [00:00<00:01, 189.53it/s]"
     ]
    },
    {
     "name": "stdout",
     "output_type": "stream",
     "text": [
      "ep:  28 , train loss:  0.0005410534381866455 , val loss:  0.0005543274283409119\n"
     ]
    },
    {
     "name": "stderr",
     "output_type": "stream",
     "text": [
      "training: 100%|██████████| 313/313 [00:01<00:00, 213.46it/s]\n",
      "val: 100%|██████████| 32/32 [00:00<00:00, 830.81it/s]\n",
      "training:  14%|█▎        | 43/313 [00:00<00:01, 213.64it/s]"
     ]
    },
    {
     "name": "stdout",
     "output_type": "stream",
     "text": [
      "ep:  29 , train loss:  0.0005405660629272461 , val loss:  0.0005479366183280945\n"
     ]
    },
    {
     "name": "stderr",
     "output_type": "stream",
     "text": [
      "training: 100%|██████████| 313/313 [00:01<00:00, 207.40it/s]\n",
      "val: 100%|██████████| 32/32 [00:00<00:00, 1077.54it/s]\n",
      "training:  14%|█▍        | 44/313 [00:00<00:01, 217.40it/s]"
     ]
    },
    {
     "name": "stdout",
     "output_type": "stream",
     "text": [
      "ep:  30 , train loss:  0.00054038667678833 , val loss:  0.0005487057566642761\n"
     ]
    },
    {
     "name": "stderr",
     "output_type": "stream",
     "text": [
      "training: 100%|██████████| 313/313 [00:01<00:00, 214.32it/s]\n",
      "val: 100%|██████████| 32/32 [00:00<00:00, 949.37it/s]\n",
      "training:   7%|▋         | 21/313 [00:00<00:01, 206.91it/s]"
     ]
    },
    {
     "name": "stdout",
     "output_type": "stream",
     "text": [
      "ep:  31 , train loss:  0.000540188217163086 , val loss:  0.0005394198298454285\n"
     ]
    },
    {
     "name": "stderr",
     "output_type": "stream",
     "text": [
      "training: 100%|██████████| 313/313 [00:01<00:00, 199.42it/s]\n",
      "val: 100%|██████████| 32/32 [00:00<00:00, 1007.07it/s]\n",
      "training:   7%|▋         | 21/313 [00:00<00:01, 204.27it/s]"
     ]
    },
    {
     "name": "stdout",
     "output_type": "stream",
     "text": [
      "ep:  32 , train loss:  0.0005404511451721192 , val loss:  0.000546539843082428\n"
     ]
    },
    {
     "name": "stderr",
     "output_type": "stream",
     "text": [
      "training: 100%|██████████| 313/313 [00:01<00:00, 210.79it/s]\n",
      "val: 100%|██████████| 32/32 [00:00<00:00, 1103.47it/s]\n",
      "training:   7%|▋         | 21/313 [00:00<00:01, 208.95it/s]"
     ]
    },
    {
     "name": "stdout",
     "output_type": "stream",
     "text": [
      "ep:  33 , train loss:  0.0005417908191680908 , val loss:  0.0005451095700263977\n"
     ]
    },
    {
     "name": "stderr",
     "output_type": "stream",
     "text": [
      "training: 100%|██████████| 313/313 [00:01<00:00, 208.69it/s]\n",
      "val: 100%|██████████| 32/32 [00:00<00:00, 1045.24it/s]\n",
      "training:   7%|▋         | 21/313 [00:00<00:01, 207.08it/s]"
     ]
    },
    {
     "name": "stdout",
     "output_type": "stream",
     "text": [
      "ep:  34 , train loss:  0.0005402673721313476 , val loss:  0.0005400496721267701\n"
     ]
    },
    {
     "name": "stderr",
     "output_type": "stream",
     "text": [
      "training: 100%|██████████| 313/313 [00:01<00:00, 194.39it/s]\n",
      "val: 100%|██████████| 32/32 [00:00<00:00, 969.73it/s]\n",
      "training:   7%|▋         | 21/313 [00:00<00:01, 203.15it/s]"
     ]
    },
    {
     "name": "stdout",
     "output_type": "stream",
     "text": [
      "ep:  35 , train loss:  0.0005403924942016602 , val loss:  0.0005409997105598449\n"
     ]
    },
    {
     "name": "stderr",
     "output_type": "stream",
     "text": [
      "training: 100%|██████████| 313/313 [00:01<00:00, 207.57it/s]\n",
      "val: 100%|██████████| 32/32 [00:00<00:00, 1089.82it/s]\n",
      "training:   6%|▋         | 20/313 [00:00<00:01, 198.22it/s]"
     ]
    },
    {
     "name": "stdout",
     "output_type": "stream",
     "text": [
      "ep:  36 , train loss:  0.0005402719020843506 , val loss:  0.0005512548685073853\n"
     ]
    },
    {
     "name": "stderr",
     "output_type": "stream",
     "text": [
      "training: 100%|██████████| 313/313 [00:01<00:00, 207.52it/s]\n",
      "val: 100%|██████████| 32/32 [00:00<00:00, 878.83it/s]\n",
      "training:   6%|▋         | 20/313 [00:00<00:01, 199.42it/s]"
     ]
    },
    {
     "name": "stdout",
     "output_type": "stream",
     "text": [
      "ep:  37 , train loss:  0.0005406381130218506 , val loss:  0.0005506036281585693\n"
     ]
    },
    {
     "name": "stderr",
     "output_type": "stream",
     "text": [
      "training: 100%|██████████| 313/313 [00:01<00:00, 207.80it/s]\n",
      "val: 100%|██████████| 32/32 [00:00<00:00, 961.00it/s]\n",
      "training:   7%|▋         | 21/313 [00:00<00:01, 206.28it/s]"
     ]
    },
    {
     "name": "stdout",
     "output_type": "stream",
     "text": [
      "ep:  38 , train loss:  0.0005410927772521972 , val loss:  0.000550723135471344\n"
     ]
    },
    {
     "name": "stderr",
     "output_type": "stream",
     "text": [
      "training: 100%|██████████| 313/313 [00:01<00:00, 200.05it/s]\n",
      "val: 100%|██████████| 32/32 [00:00<00:00, 956.98it/s]\n",
      "training:   6%|▋         | 20/313 [00:00<00:01, 198.75it/s]"
     ]
    },
    {
     "name": "stdout",
     "output_type": "stream",
     "text": [
      "ep:  39 , train loss:  0.0005402804851531983 , val loss:  0.0005450330972671509\n"
     ]
    },
    {
     "name": "stderr",
     "output_type": "stream",
     "text": [
      "training: 100%|██████████| 313/313 [00:01<00:00, 205.82it/s]\n",
      "val: 100%|██████████| 32/32 [00:00<00:00, 1012.67it/s]\n",
      "training:  13%|█▎        | 42/313 [00:00<00:01, 207.15it/s]"
     ]
    },
    {
     "name": "stdout",
     "output_type": "stream",
     "text": [
      "ep:  40 , train loss:  0.000540213394165039 , val loss:  0.0005393530726432801\n"
     ]
    },
    {
     "name": "stderr",
     "output_type": "stream",
     "text": [
      "training: 100%|██████████| 313/313 [00:01<00:00, 204.13it/s]\n",
      "val: 100%|██████████| 32/32 [00:00<00:00, 953.03it/s]\n",
      "training:   7%|▋         | 22/313 [00:00<00:01, 213.22it/s]"
     ]
    },
    {
     "name": "stdout",
     "output_type": "stream",
     "text": [
      "ep:  41 , train loss:  0.000540526008605957 , val loss:  0.0005417898893356324\n"
     ]
    },
    {
     "name": "stderr",
     "output_type": "stream",
     "text": [
      "training: 100%|██████████| 313/313 [00:01<00:00, 194.26it/s]\n",
      "val: 100%|██████████| 32/32 [00:00<00:00, 878.16it/s]\n",
      "training:   6%|▌         | 19/313 [00:00<00:01, 186.85it/s]"
     ]
    },
    {
     "name": "stdout",
     "output_type": "stream",
     "text": [
      "ep:  42 , train loss:  0.0005402782440185547 , val loss:  0.0005483102202415467\n"
     ]
    },
    {
     "name": "stderr",
     "output_type": "stream",
     "text": [
      "training: 100%|██████████| 313/313 [00:01<00:00, 200.97it/s]\n",
      "val: 100%|██████████| 32/32 [00:00<00:00, 943.61it/s]\n",
      "training:   7%|▋         | 21/313 [00:00<00:01, 209.25it/s]"
     ]
    },
    {
     "name": "stdout",
     "output_type": "stream",
     "text": [
      "ep:  43 , train loss:  0.0005398900508880616 , val loss:  0.0005418381094932556\n"
     ]
    },
    {
     "name": "stderr",
     "output_type": "stream",
     "text": [
      "training: 100%|██████████| 313/313 [00:01<00:00, 209.11it/s]\n",
      "val: 100%|██████████| 32/32 [00:00<00:00, 1042.40it/s]\n",
      "training:  13%|█▎        | 42/313 [00:00<00:01, 207.22it/s]"
     ]
    },
    {
     "name": "stdout",
     "output_type": "stream",
     "text": [
      "ep:  44 , train loss:  0.0005403411865234375 , val loss:  0.0005535045266151428\n"
     ]
    },
    {
     "name": "stderr",
     "output_type": "stream",
     "text": [
      "training: 100%|██████████| 313/313 [00:01<00:00, 205.40it/s]\n",
      "val: 100%|██████████| 32/32 [00:00<00:00, 997.05it/s]\n",
      "training:   7%|▋         | 21/313 [00:00<00:01, 203.45it/s]"
     ]
    },
    {
     "name": "stdout",
     "output_type": "stream",
     "text": [
      "ep:  45 , train loss:  0.0005400684356689454 , val loss:  0.0005503044724464416\n"
     ]
    },
    {
     "name": "stderr",
     "output_type": "stream",
     "text": [
      "training: 100%|██████████| 313/313 [00:01<00:00, 195.82it/s]\n",
      "val: 100%|██████████| 32/32 [00:00<00:00, 969.67it/s]\n",
      "training:   7%|▋         | 21/313 [00:00<00:01, 202.52it/s]"
     ]
    },
    {
     "name": "stdout",
     "output_type": "stream",
     "text": [
      "ep:  46 , train loss:  0.0005405611515045166 , val loss:  0.0005584584474563599\n"
     ]
    },
    {
     "name": "stderr",
     "output_type": "stream",
     "text": [
      "training: 100%|██████████| 313/313 [00:01<00:00, 206.23it/s]\n",
      "val: 100%|██████████| 32/32 [00:00<00:00, 892.29it/s]\n",
      "training:   6%|▋         | 20/313 [00:00<00:01, 191.02it/s]"
     ]
    },
    {
     "name": "stdout",
     "output_type": "stream",
     "text": [
      "ep:  47 , train loss:  0.0005401379585266114 , val loss:  0.0005453836917877198\n"
     ]
    },
    {
     "name": "stderr",
     "output_type": "stream",
     "text": [
      "training: 100%|██████████| 313/313 [00:01<00:00, 198.96it/s]\n",
      "val: 100%|██████████| 32/32 [00:00<00:00, 988.34it/s]\n",
      "training:   6%|▋         | 20/313 [00:00<00:01, 197.40it/s]"
     ]
    },
    {
     "name": "stdout",
     "output_type": "stream",
     "text": [
      "ep:  48 , train loss:  0.0005403691291809082 , val loss:  0.0005494561791419983\n"
     ]
    },
    {
     "name": "stderr",
     "output_type": "stream",
     "text": [
      "training: 100%|██████████| 313/313 [00:01<00:00, 192.25it/s]\n",
      "val: 100%|██████████| 32/32 [00:00<00:00, 1011.02it/s]\n",
      "training:   7%|▋         | 21/313 [00:00<00:01, 208.28it/s]"
     ]
    },
    {
     "name": "stdout",
     "output_type": "stream",
     "text": [
      "ep:  49 , train loss:  0.0005406076431274414 , val loss:  0.0005444096922874451\n"
     ]
    },
    {
     "name": "stderr",
     "output_type": "stream",
     "text": [
      "training: 100%|██████████| 313/313 [00:01<00:00, 206.78it/s]\n",
      "val: 100%|██████████| 32/32 [00:00<00:00, 1022.97it/s]\n",
      "training:  13%|█▎        | 42/313 [00:00<00:01, 205.89it/s]"
     ]
    },
    {
     "name": "stdout",
     "output_type": "stream",
     "text": [
      "ep:  50 , train loss:  0.0005404528617858887 , val loss:  0.000547504186630249\n"
     ]
    },
    {
     "name": "stderr",
     "output_type": "stream",
     "text": [
      "training: 100%|██████████| 313/313 [00:01<00:00, 206.19it/s]\n",
      "val: 100%|██████████| 32/32 [00:00<00:00, 1015.99it/s]\n",
      "training:   7%|▋         | 21/313 [00:00<00:01, 202.97it/s]"
     ]
    },
    {
     "name": "stdout",
     "output_type": "stream",
     "text": [
      "ep:  51 , train loss:  0.000540257740020752 , val loss:  0.0005458061695098877\n"
     ]
    },
    {
     "name": "stderr",
     "output_type": "stream",
     "text": [
      "training: 100%|██████████| 313/313 [00:01<00:00, 206.94it/s]\n",
      "val: 100%|██████████| 32/32 [00:00<00:00, 965.70it/s]\n",
      "training:   6%|▌         | 19/313 [00:00<00:01, 187.95it/s]"
     ]
    },
    {
     "name": "stdout",
     "output_type": "stream",
     "text": [
      "ep:  52 , train loss:  0.0005402244091033936 , val loss:  0.0005444576144218445\n"
     ]
    },
    {
     "name": "stderr",
     "output_type": "stream",
     "text": [
      "training: 100%|██████████| 313/313 [00:01<00:00, 192.08it/s]\n",
      "val: 100%|██████████| 32/32 [00:00<00:00, 948.91it/s]\n",
      "training:   7%|▋         | 21/313 [00:00<00:01, 206.70it/s]"
     ]
    },
    {
     "name": "stdout",
     "output_type": "stream",
     "text": [
      "ep:  53 , train loss:  0.0005399620532989502 , val loss:  0.0005428115129470825\n"
     ]
    },
    {
     "name": "stderr",
     "output_type": "stream",
     "text": [
      "training: 100%|██████████| 313/313 [00:01<00:00, 199.23it/s]\n",
      "val: 100%|██████████| 32/32 [00:00<00:00, 1009.60it/s]\n",
      "training:   6%|▋         | 20/313 [00:00<00:01, 198.40it/s]"
     ]
    },
    {
     "name": "stdout",
     "output_type": "stream",
     "text": [
      "ep:  54 , train loss:  0.0005405841827392578 , val loss:  0.0005478264093399048\n"
     ]
    },
    {
     "name": "stderr",
     "output_type": "stream",
     "text": [
      "training: 100%|██████████| 313/313 [00:01<00:00, 201.49it/s]\n",
      "val: 100%|██████████| 32/32 [00:00<00:00, 965.52it/s]\n",
      "training:   6%|▋         | 20/313 [00:00<00:01, 199.30it/s]"
     ]
    },
    {
     "name": "stdout",
     "output_type": "stream",
     "text": [
      "ep:  55 , train loss:  0.0005408859252929687 , val loss:  0.0005428414344787598\n"
     ]
    },
    {
     "name": "stderr",
     "output_type": "stream",
     "text": [
      "training: 100%|██████████| 313/313 [00:01<00:00, 194.40it/s]\n",
      "val: 100%|██████████| 32/32 [00:00<00:00, 910.06it/s]\n",
      "training:  13%|█▎        | 42/313 [00:00<00:01, 205.01it/s]"
     ]
    },
    {
     "name": "stdout",
     "output_type": "stream",
     "text": [
      "ep:  56 , train loss:  0.0005401732444763183 , val loss:  0.0005404622554779052\n"
     ]
    },
    {
     "name": "stderr",
     "output_type": "stream",
     "text": [
      "training: 100%|██████████| 313/313 [00:01<00:00, 200.64it/s]\n",
      "val: 100%|██████████| 32/32 [00:00<00:00, 967.09it/s]\n",
      "training:   6%|▋         | 20/313 [00:00<00:01, 198.72it/s]"
     ]
    },
    {
     "name": "stdout",
     "output_type": "stream",
     "text": [
      "ep:  57 , train loss:  0.0005400344848632813 , val loss:  0.0005514876842498779\n"
     ]
    },
    {
     "name": "stderr",
     "output_type": "stream",
     "text": [
      "training: 100%|██████████| 313/313 [00:01<00:00, 200.39it/s]\n",
      "val: 100%|██████████| 32/32 [00:00<00:00, 954.82it/s]\n",
      "training:   6%|▋         | 20/313 [00:00<00:01, 195.87it/s]"
     ]
    },
    {
     "name": "stdout",
     "output_type": "stream",
     "text": [
      "ep:  58 , train loss:  0.0005403201580047607 , val loss:  0.0005542300343513489\n"
     ]
    },
    {
     "name": "stderr",
     "output_type": "stream",
     "text": [
      "training: 100%|██████████| 313/313 [00:01<00:00, 201.31it/s]\n",
      "val: 100%|██████████| 32/32 [00:00<00:00, 999.94it/s]\n",
      "training:   7%|▋         | 21/313 [00:00<00:01, 202.75it/s]"
     ]
    },
    {
     "name": "stdout",
     "output_type": "stream",
     "text": [
      "ep:  59 , train loss:  0.0005401670932769775 , val loss:  0.0005447593331336975\n"
     ]
    },
    {
     "name": "stderr",
     "output_type": "stream",
     "text": [
      "training: 100%|██████████| 313/313 [00:01<00:00, 186.15it/s]\n",
      "val: 100%|██████████| 32/32 [00:00<00:00, 994.06it/s]\n",
      "training:   6%|▌         | 19/313 [00:00<00:01, 189.46it/s]"
     ]
    },
    {
     "name": "stdout",
     "output_type": "stream",
     "text": [
      "ep:  60 , train loss:  0.0005405517578125 , val loss:  0.0005435102581977844\n"
     ]
    },
    {
     "name": "stderr",
     "output_type": "stream",
     "text": [
      "training: 100%|██████████| 313/313 [00:01<00:00, 202.38it/s]\n",
      "val: 100%|██████████| 32/32 [00:00<00:00, 946.12it/s]\n",
      "training:   6%|▋         | 20/313 [00:00<00:01, 195.25it/s]"
     ]
    },
    {
     "name": "stdout",
     "output_type": "stream",
     "text": [
      "ep:  61 , train loss:  0.0005398630619049072 , val loss:  0.000553638517856598\n"
     ]
    },
    {
     "name": "stderr",
     "output_type": "stream",
     "text": [
      "training: 100%|██████████| 313/313 [00:01<00:00, 201.86it/s]\n",
      "val: 100%|██████████| 32/32 [00:00<00:00, 991.83it/s]\n",
      "training:   6%|▌         | 19/313 [00:00<00:01, 181.12it/s]"
     ]
    },
    {
     "name": "stdout",
     "output_type": "stream",
     "text": [
      "ep:  62 , train loss:  0.0005407183647155761 , val loss:  0.0005523645281791687\n"
     ]
    },
    {
     "name": "stderr",
     "output_type": "stream",
     "text": [
      "training: 100%|██████████| 313/313 [00:01<00:00, 188.95it/s]\n",
      "val: 100%|██████████| 32/32 [00:00<00:00, 1000.30it/s]\n",
      "training:   6%|▋         | 20/313 [00:00<00:01, 191.70it/s]"
     ]
    },
    {
     "name": "stdout",
     "output_type": "stream",
     "text": [
      "ep:  63 , train loss:  0.0005401365756988525 , val loss:  0.0005451986789703369\n"
     ]
    },
    {
     "name": "stderr",
     "output_type": "stream",
     "text": [
      "training: 100%|██████████| 313/313 [00:01<00:00, 200.01it/s]\n",
      "val: 100%|██████████| 32/32 [00:00<00:00, 896.30it/s]\n",
      "training:   7%|▋         | 21/313 [00:00<00:01, 206.45it/s]"
     ]
    },
    {
     "name": "stdout",
     "output_type": "stream",
     "text": [
      "ep:  64 , train loss:  0.0005401384830474854 , val loss:  0.0005414842367172241\n"
     ]
    },
    {
     "name": "stderr",
     "output_type": "stream",
     "text": [
      "training: 100%|██████████| 313/313 [00:01<00:00, 201.30it/s]\n",
      "val: 100%|██████████| 32/32 [00:00<00:00, 1028.40it/s]\n",
      "training:   6%|▌         | 19/313 [00:00<00:01, 189.66it/s]"
     ]
    },
    {
     "name": "stdout",
     "output_type": "stream",
     "text": [
      "ep:  65 , train loss:  0.0005401889801025391 , val loss:  0.0005406837463378906\n"
     ]
    },
    {
     "name": "stderr",
     "output_type": "stream",
     "text": [
      "training: 100%|██████████| 313/313 [00:01<00:00, 197.62it/s]\n",
      "val: 100%|██████████| 32/32 [00:00<00:00, 977.59it/s]\n",
      "training:   6%|▌         | 19/313 [00:00<00:01, 188.30it/s]"
     ]
    },
    {
     "name": "stdout",
     "output_type": "stream",
     "text": [
      "ep:  66 , train loss:  0.0005403244972229003 , val loss:  0.0005559666752815247\n"
     ]
    },
    {
     "name": "stderr",
     "output_type": "stream",
     "text": [
      "training: 100%|██████████| 313/313 [00:01<00:00, 186.74it/s]\n",
      "val: 100%|██████████| 32/32 [00:00<00:00, 1013.09it/s]\n",
      "training:   6%|▋         | 20/313 [00:00<00:01, 191.96it/s]"
     ]
    },
    {
     "name": "stdout",
     "output_type": "stream",
     "text": [
      "ep:  67 , train loss:  0.0005401505947113037 , val loss:  0.000545345425605774\n"
     ]
    },
    {
     "name": "stderr",
     "output_type": "stream",
     "text": [
      "training: 100%|██████████| 313/313 [00:01<00:00, 197.65it/s]\n",
      "val: 100%|██████████| 32/32 [00:00<00:00, 934.57it/s]\n",
      "training:   6%|▌         | 19/313 [00:00<00:01, 183.63it/s]"
     ]
    },
    {
     "name": "stdout",
     "output_type": "stream",
     "text": [
      "ep:  68 , train loss:  0.0005403180122375488 , val loss:  0.0005470972657203674\n"
     ]
    },
    {
     "name": "stderr",
     "output_type": "stream",
     "text": [
      "training: 100%|██████████| 313/313 [00:01<00:00, 199.87it/s]\n",
      "val: 100%|██████████| 32/32 [00:00<00:00, 900.32it/s]\n",
      "training:   6%|▌         | 19/313 [00:00<00:01, 188.40it/s]"
     ]
    },
    {
     "name": "stdout",
     "output_type": "stream",
     "text": [
      "ep:  69 , train loss:  0.0005402989864349365 , val loss:  0.0005562381744384766\n"
     ]
    },
    {
     "name": "stderr",
     "output_type": "stream",
     "text": [
      "training: 100%|██████████| 313/313 [00:01<00:00, 183.26it/s]\n",
      "val: 100%|██████████| 32/32 [00:00<00:00, 948.72it/s]\n",
      "training:   6%|▋         | 20/313 [00:00<00:01, 198.38it/s]"
     ]
    },
    {
     "name": "stdout",
     "output_type": "stream",
     "text": [
      "ep:  70 , train loss:  0.0005402109622955323 , val loss:  0.0005483732223510742\n"
     ]
    },
    {
     "name": "stderr",
     "output_type": "stream",
     "text": [
      "training: 100%|██████████| 313/313 [00:01<00:00, 199.35it/s]\n",
      "val: 100%|██████████| 32/32 [00:00<00:00, 879.29it/s]\n",
      "training:   6%|▋         | 20/313 [00:00<00:01, 195.02it/s]"
     ]
    },
    {
     "name": "stdout",
     "output_type": "stream",
     "text": [
      "ep:  71 , train loss:  0.0005401189804077149 , val loss:  0.000548171877861023\n"
     ]
    },
    {
     "name": "stderr",
     "output_type": "stream",
     "text": [
      "training: 100%|██████████| 313/313 [00:01<00:00, 194.54it/s]\n",
      "val: 100%|██████████| 32/32 [00:00<00:00, 897.85it/s]\n",
      "training:   6%|▌         | 19/313 [00:00<00:01, 181.25it/s]"
     ]
    },
    {
     "name": "stdout",
     "output_type": "stream",
     "text": [
      "ep:  72 , train loss:  0.0005400432109832763 , val loss:  0.0005516794323921204\n"
     ]
    },
    {
     "name": "stderr",
     "output_type": "stream",
     "text": [
      "training: 100%|██████████| 313/313 [00:01<00:00, 195.71it/s]\n",
      "val: 100%|██████████| 32/32 [00:00<00:00, 951.98it/s]\n",
      "training:   2%|▏         | 6/313 [00:00<00:05, 58.07it/s]"
     ]
    },
    {
     "name": "stdout",
     "output_type": "stream",
     "text": [
      "ep:  73 , train loss:  0.0005403840065002441 , val loss:  0.0005524455904960632\n"
     ]
    },
    {
     "name": "stderr",
     "output_type": "stream",
     "text": [
      "training: 100%|██████████| 313/313 [00:01<00:00, 182.29it/s]\n",
      "val: 100%|██████████| 32/32 [00:00<00:00, 969.75it/s]\n",
      "training:   6%|▋         | 20/313 [00:00<00:01, 196.94it/s]"
     ]
    },
    {
     "name": "stdout",
     "output_type": "stream",
     "text": [
      "ep:  74 , train loss:  0.0005402404308319092 , val loss:  0.0005501868724822998\n"
     ]
    },
    {
     "name": "stderr",
     "output_type": "stream",
     "text": [
      "training: 100%|██████████| 313/313 [00:01<00:00, 191.47it/s]\n",
      "val: 100%|██████████| 32/32 [00:00<00:00, 839.63it/s]\n",
      "training:   5%|▌         | 17/313 [00:00<00:01, 169.82it/s]"
     ]
    },
    {
     "name": "stdout",
     "output_type": "stream",
     "text": [
      "ep:  75 , train loss:  0.0005405244350433349 , val loss:  0.0005448302030563355\n"
     ]
    },
    {
     "name": "stderr",
     "output_type": "stream",
     "text": [
      "training: 100%|██████████| 313/313 [00:01<00:00, 192.45it/s]\n",
      "val: 100%|██████████| 32/32 [00:00<00:00, 928.32it/s]\n",
      "training:   6%|▌         | 19/313 [00:00<00:01, 189.13it/s]"
     ]
    },
    {
     "name": "stdout",
     "output_type": "stream",
     "text": [
      "ep:  76 , train loss:  0.0005402343273162842 , val loss:  0.0005477763414382935\n"
     ]
    },
    {
     "name": "stderr",
     "output_type": "stream",
     "text": [
      "training: 100%|██████████| 313/313 [00:01<00:00, 184.50it/s]\n",
      "val: 100%|██████████| 32/32 [00:00<00:00, 978.72it/s]\n",
      "training:   6%|▋         | 20/313 [00:00<00:01, 191.42it/s]"
     ]
    },
    {
     "name": "stdout",
     "output_type": "stream",
     "text": [
      "ep:  77 , train loss:  0.0005400510787963867 , val loss:  0.0005520053505897522\n"
     ]
    },
    {
     "name": "stderr",
     "output_type": "stream",
     "text": [
      "training: 100%|██████████| 313/313 [00:01<00:00, 194.36it/s]\n",
      "val: 100%|██████████| 32/32 [00:00<00:00, 920.07it/s]\n",
      "training:   6%|▌         | 19/313 [00:00<00:01, 184.54it/s]"
     ]
    },
    {
     "name": "stdout",
     "output_type": "stream",
     "text": [
      "ep:  78 , train loss:  0.0005406610012054444 , val loss:  0.0005509156584739685\n"
     ]
    },
    {
     "name": "stderr",
     "output_type": "stream",
     "text": [
      "training: 100%|██████████| 313/313 [00:01<00:00, 189.90it/s]\n",
      "val: 100%|██████████| 32/32 [00:00<00:00, 913.52it/s]\n",
      "training:   6%|▌         | 19/313 [00:00<00:01, 183.93it/s]"
     ]
    },
    {
     "name": "stdout",
     "output_type": "stream",
     "text": [
      "ep:  79 , train loss:  0.000540412425994873 , val loss:  0.0005451353788375854\n"
     ]
    },
    {
     "name": "stderr",
     "output_type": "stream",
     "text": [
      "training: 100%|██████████| 313/313 [00:01<00:00, 187.02it/s]\n",
      "val: 100%|██████████| 32/32 [00:00<00:00, 692.59it/s]\n",
      "training:   7%|▋         | 21/313 [00:00<00:01, 203.35it/s]"
     ]
    },
    {
     "name": "stdout",
     "output_type": "stream",
     "text": [
      "ep:  80 , train loss:  0.0005402487277984619 , val loss:  0.0005442432761192322\n"
     ]
    },
    {
     "name": "stderr",
     "output_type": "stream",
     "text": [
      "training: 100%|██████████| 313/313 [00:01<00:00, 194.32it/s]\n",
      "val: 100%|██████████| 32/32 [00:00<00:00, 1103.16it/s]\n",
      "training:   6%|▌         | 19/313 [00:00<00:01, 185.29it/s]"
     ]
    },
    {
     "name": "stdout",
     "output_type": "stream",
     "text": [
      "ep:  81 , train loss:  0.000540291690826416 , val loss:  0.0005439607501029969\n"
     ]
    },
    {
     "name": "stderr",
     "output_type": "stream",
     "text": [
      "training: 100%|██████████| 313/313 [00:01<00:00, 190.95it/s]\n",
      "val: 100%|██████████| 32/32 [00:00<00:00, 825.99it/s]\n",
      "training:   5%|▌         | 17/313 [00:00<00:01, 169.19it/s]"
     ]
    },
    {
     "name": "stdout",
     "output_type": "stream",
     "text": [
      "ep:  82 , train loss:  0.0005402764320373535 , val loss:  0.0005529365539550782\n"
     ]
    },
    {
     "name": "stderr",
     "output_type": "stream",
     "text": [
      "training: 100%|██████████| 313/313 [00:01<00:00, 186.69it/s]\n",
      "val: 100%|██████████| 32/32 [00:00<00:00, 1066.14it/s]\n",
      "training:   6%|▌         | 19/313 [00:00<00:01, 187.32it/s]"
     ]
    },
    {
     "name": "stdout",
     "output_type": "stream",
     "text": [
      "ep:  83 , train loss:  0.0005404687881469727 , val loss:  0.0005483954548835755\n"
     ]
    },
    {
     "name": "stderr",
     "output_type": "stream",
     "text": [
      "training: 100%|██████████| 313/313 [00:01<00:00, 187.21it/s]\n",
      "val: 100%|██████████| 32/32 [00:00<00:00, 898.20it/s]\n",
      "training:   6%|▌         | 19/313 [00:00<00:01, 189.42it/s]"
     ]
    },
    {
     "name": "stdout",
     "output_type": "stream",
     "text": [
      "ep:  84 , train loss:  0.0005402000904083252 , val loss:  0.0005457147359848023\n"
     ]
    },
    {
     "name": "stderr",
     "output_type": "stream",
     "text": [
      "training: 100%|██████████| 313/313 [00:01<00:00, 195.41it/s]\n",
      "val: 100%|██████████| 32/32 [00:00<00:00, 1040.75it/s]\n",
      "training:   6%|▋         | 20/313 [00:00<00:01, 193.89it/s]"
     ]
    },
    {
     "name": "stdout",
     "output_type": "stream",
     "text": [
      "ep:  85 , train loss:  0.0005407214164733886 , val loss:  0.0005403729677200317\n"
     ]
    },
    {
     "name": "stderr",
     "output_type": "stream",
     "text": [
      "training: 100%|██████████| 313/313 [00:01<00:00, 191.70it/s]\n",
      "val: 100%|██████████| 32/32 [00:00<00:00, 810.25it/s]\n",
      "training:   1%|▏         | 4/313 [00:00<00:07, 39.05it/s]"
     ]
    },
    {
     "name": "stdout",
     "output_type": "stream",
     "text": [
      "ep:  86 , train loss:  0.0005400004863739013 , val loss:  0.0005569666028022766\n"
     ]
    },
    {
     "name": "stderr",
     "output_type": "stream",
     "text": [
      "training: 100%|██████████| 313/313 [00:01<00:00, 182.53it/s]\n",
      "val: 100%|██████████| 32/32 [00:00<00:00, 1089.51it/s]\n",
      "training:   6%|▋         | 20/313 [00:00<00:01, 197.15it/s]"
     ]
    },
    {
     "name": "stdout",
     "output_type": "stream",
     "text": [
      "ep:  87 , train loss:  0.000540370798110962 , val loss:  0.0005414194464683533\n"
     ]
    },
    {
     "name": "stderr",
     "output_type": "stream",
     "text": [
      "training: 100%|██████████| 313/313 [00:01<00:00, 194.47it/s]\n",
      "val: 100%|██████████| 32/32 [00:00<00:00, 1048.35it/s]\n",
      "training:  12%|█▏        | 39/313 [00:00<00:01, 191.02it/s]"
     ]
    },
    {
     "name": "stdout",
     "output_type": "stream",
     "text": [
      "ep:  88 , train loss:  0.0005403610706329346 , val loss:  0.0005414072275161743\n"
     ]
    },
    {
     "name": "stderr",
     "output_type": "stream",
     "text": [
      "training: 100%|██████████| 313/313 [00:01<00:00, 186.44it/s]\n",
      "val: 100%|██████████| 32/32 [00:00<00:00, 755.81it/s]\n",
      "training:   6%|▌         | 18/313 [00:00<00:01, 175.14it/s]"
     ]
    },
    {
     "name": "stdout",
     "output_type": "stream",
     "text": [
      "ep:  89 , train loss:  0.0005402734279632568 , val loss:  0.0005508407950401307\n"
     ]
    },
    {
     "name": "stderr",
     "output_type": "stream",
     "text": [
      "training: 100%|██████████| 313/313 [00:01<00:00, 184.67it/s]\n",
      "val: 100%|██████████| 32/32 [00:00<00:00, 1047.03it/s]\n",
      "training:   6%|▋         | 20/313 [00:00<00:01, 195.37it/s]"
     ]
    },
    {
     "name": "stdout",
     "output_type": "stream",
     "text": [
      "ep:  90 , train loss:  0.0005400166511535645 , val loss:  0.0005450868606567383\n"
     ]
    },
    {
     "name": "stderr",
     "output_type": "stream",
     "text": [
      "training: 100%|██████████| 313/313 [00:01<00:00, 193.74it/s]\n",
      "val: 100%|██████████| 32/32 [00:00<00:00, 955.88it/s]\n",
      "training:  12%|█▏        | 39/313 [00:00<00:01, 191.54it/s]"
     ]
    },
    {
     "name": "stdout",
     "output_type": "stream",
     "text": [
      "ep:  91 , train loss:  0.0005401710510253906 , val loss:  0.0005430225729942321\n"
     ]
    },
    {
     "name": "stderr",
     "output_type": "stream",
     "text": [
      "training: 100%|██████████| 313/313 [00:01<00:00, 193.97it/s]\n",
      "val: 100%|██████████| 32/32 [00:00<00:00, 975.58it/s]\n",
      "training:  13%|█▎        | 41/313 [00:00<00:01, 203.94it/s]"
     ]
    },
    {
     "name": "stdout",
     "output_type": "stream",
     "text": [
      "ep:  92 , train loss:  0.0005400609970092773 , val loss:  0.0005551034212112427\n"
     ]
    },
    {
     "name": "stderr",
     "output_type": "stream",
     "text": [
      "training: 100%|██████████| 313/313 [00:01<00:00, 186.25it/s]\n",
      "val: 100%|██████████| 32/32 [00:00<00:00, 981.09it/s]\n",
      "training:   6%|▌         | 19/313 [00:00<00:01, 187.70it/s]"
     ]
    },
    {
     "name": "stdout",
     "output_type": "stream",
     "text": [
      "ep:  93 , train loss:  0.0005399060249328614 , val loss:  0.0005536558032035828\n"
     ]
    },
    {
     "name": "stderr",
     "output_type": "stream",
     "text": [
      "training: 100%|██████████| 313/313 [00:01<00:00, 193.86it/s]\n",
      "val: 100%|██████████| 32/32 [00:00<00:00, 943.39it/s]\n",
      "training:   6%|▋         | 20/313 [00:00<00:01, 193.14it/s]"
     ]
    },
    {
     "name": "stdout",
     "output_type": "stream",
     "text": [
      "ep:  94 , train loss:  0.0005402632713317871 , val loss:  0.0005449275374412537\n"
     ]
    },
    {
     "name": "stderr",
     "output_type": "stream",
     "text": [
      "training: 100%|██████████| 313/313 [00:01<00:00, 196.35it/s]\n",
      "val: 100%|██████████| 32/32 [00:00<00:00, 1068.28it/s]\n",
      "training:   6%|▌         | 19/313 [00:00<00:01, 182.43it/s]"
     ]
    },
    {
     "name": "stdout",
     "output_type": "stream",
     "text": [
      "ep:  95 , train loss:  0.0005404006481170655 , val loss:  0.0005439879298210144\n"
     ]
    },
    {
     "name": "stderr",
     "output_type": "stream",
     "text": [
      "training: 100%|██████████| 313/313 [00:01<00:00, 175.80it/s]\n",
      "val: 100%|██████████| 32/32 [00:00<00:00, 1058.14it/s]\n",
      "training:  12%|█▏        | 39/313 [00:00<00:01, 190.93it/s]"
     ]
    },
    {
     "name": "stdout",
     "output_type": "stream",
     "text": [
      "ep:  96 , train loss:  0.0005404798984527588 , val loss:  0.0005468845963478088\n"
     ]
    },
    {
     "name": "stderr",
     "output_type": "stream",
     "text": [
      "training: 100%|██████████| 313/313 [00:01<00:00, 194.79it/s]\n",
      "val: 100%|██████████| 32/32 [00:00<00:00, 981.17it/s]\n",
      "training:   2%|▏         | 7/313 [00:00<00:04, 69.22it/s]"
     ]
    },
    {
     "name": "stdout",
     "output_type": "stream",
     "text": [
      "ep:  97 , train loss:  0.0005402578353881836 , val loss:  0.0005384739637374877\n"
     ]
    },
    {
     "name": "stderr",
     "output_type": "stream",
     "text": [
      "training: 100%|██████████| 313/313 [00:01<00:00, 184.27it/s]\n",
      "val: 100%|██████████| 32/32 [00:00<00:00, 1020.63it/s]\n",
      "training:  12%|█▏        | 39/313 [00:00<00:01, 195.32it/s]"
     ]
    },
    {
     "name": "stdout",
     "output_type": "stream",
     "text": [
      "ep:  98 , train loss:  0.0005399251937866211 , val loss:  0.0005585699677467346\n"
     ]
    },
    {
     "name": "stderr",
     "output_type": "stream",
     "text": [
      "training: 100%|██████████| 313/313 [00:01<00:00, 195.92it/s]\n",
      "val: 100%|██████████| 32/32 [00:00<00:00, 1035.15it/s]\n"
     ]
    },
    {
     "name": "stdout",
     "output_type": "stream",
     "text": [
      "ep:  99 , train loss:  0.0005399437427520752 , val loss:  0.0005504733324050903\n"
     ]
    },
    {
     "data": {
      "image/png": "[encoded data removed]",
      "text/plain": [
       "<Figure size 432x288 with 1 Axes>"
      ]
     },
     "metadata": {
      "needs_background": "light"
     },
     "output_type": "display_data"
    }
   ],
   "source": [
    "vae = VAE(input_dimension=300, hidden_dims=256, latent_dims=2)\n",
    "opt = torch.optim.Adam(vae.parameters(), lr=0.001)\n",
    "train_vae(100, vae, opt, train_loader, test_loader)"
   ]
  },
  {
   "attachments": {},
   "cell_type": "markdown",
   "metadata": {},
   "source": [
    "## Cifar 10"
   ]
  },
  {
   "cell_type": "code",
   "execution_count": 2,
   "metadata": {},
   "outputs": [
    {
     "name": "stdout",
     "output_type": "stream",
     "text": [
      "Files already downloaded and verified\n",
      "Files already downloaded and verified\n"
     ]
    }
   ],
   "source": [
    "train_loader, val_loader, test_loader = cifar10(train_val_split = [45000, 5000], batch_size=32)"
   ]
  },
  {
   "cell_type": "code",
   "execution_count": null,
   "metadata": {},
   "outputs": [],
   "source": [
    "epochs = 10\n",
    "\n",
    "vae = VAE(input_dimension=32*32*3, hidden_dims=256, latent_dims=2)\n",
    "opt = torch.optim.Adam(vae.parameters(), lr=0.001)\n",
    "train_vae(epochs, vae, opt, train_loader, val_loader, is_cifar=True)"
   ]
  },
  {
   "attachments": {},
   "cell_type": "markdown",
   "metadata": {},
   "source": [
    "## performance"
   ]
  },
  {
   "cell_type": "code",
   "execution_count": 14,
   "metadata": {},
   "outputs": [],
   "source": [
    "model = torchvision.models.resnet18(False)\n",
    "model.fc = torch.nn.Linear(512, 10)\n",
    "opt = torch.optim.Adam(model.parameters(), lr=0.001)\n",
    "train_resnet18(epochs, train_loader, batch_size=32)"
   ]
  },
  {
   "cell_type": "code",
   "execution_count": null,
   "metadata": {},
   "outputs": [],
   "source": []
  }
 ],
 "metadata": {
  "kernelspec": {
   "display_name": "base",
   "language": "python",
   "name": "python3"
  },
  "language_info": {
   "codemirror_mode": {
    "name": "ipython",
    "version": 3
   },
   "file_extension": ".py",
   "mimetype": "text/x-python",
   "name": "python",
   "nbconvert_exporter": "python",
   "pygments_lexer": "ipython3",
   "version": "3.9.7"
  },
  "orig_nbformat": 4
 },
 "nbformat": 4,
 "nbformat_minor": 2
}
